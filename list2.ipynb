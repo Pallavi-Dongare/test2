{
 "cells": [
  {
   "cell_type": "code",
   "execution_count": null,
   "id": "9f86ee54-db38-43c8-95af-2cdcfa680295",
   "metadata": {},
   "outputs": [],
   "source": [
    "# Update - present obsn"
   ]
  },
  {
   "cell_type": "code",
   "execution_count": 45,
   "id": "e1e2593d-bada-4ef3-b17d-117e58bd7c79",
   "metadata": {},
   "outputs": [
    {
     "data": {
      "text/plain": [
       "['raman', 76, 'neha', 34]"
      ]
     },
     "execution_count": 45,
     "metadata": {},
     "output_type": "execute_result"
    }
   ],
   "source": [
    "l1  = [\"raman\" , 76, 'neha' ,34]\n",
    "l1"
   ]
  },
  {
   "cell_type": "code",
   "execution_count": 11,
   "id": "e6ca1fc6-95c0-4bdc-bba3-d75156781c3a",
   "metadata": {},
   "outputs": [
    {
     "data": {
      "text/plain": [
       "'raman'"
      ]
     },
     "execution_count": 11,
     "metadata": {},
     "output_type": "execute_result"
    }
   ],
   "source": [
    "l1[0] "
   ]
  },
  {
   "cell_type": "code",
   "execution_count": 13,
   "id": "81cb9c36-9a06-4c06-8841-708857c7bf23",
   "metadata": {},
   "outputs": [],
   "source": [
    "l1[0] = 'Raman'"
   ]
  },
  {
   "cell_type": "code",
   "execution_count": 15,
   "id": "0e3a8b99-894a-4ce5-988d-297afc13044c",
   "metadata": {},
   "outputs": [
    {
     "data": {
      "text/plain": [
       "['Raman', True, 'neha', 34]"
      ]
     },
     "execution_count": 15,
     "metadata": {},
     "output_type": "execute_result"
    }
   ],
   "source": [
    "l1"
   ]
  },
  {
   "cell_type": "code",
   "execution_count": 17,
   "id": "84dde0d8-0ce3-4952-8299-40d8088e33cd",
   "metadata": {},
   "outputs": [],
   "source": [
    "l2 = [[34,45,67] ,['Seeta' , 'Geeta'] , True]"
   ]
  },
  {
   "cell_type": "code",
   "execution_count": 19,
   "id": "c0449dcf-8b59-4601-ba16-fc33ba7c02bc",
   "metadata": {},
   "outputs": [],
   "source": [
    "l2[1][1] = 'Sunita'"
   ]
  },
  {
   "cell_type": "code",
   "execution_count": 21,
   "id": "fba1de2e-901b-4ffd-aef0-f55bb304432f",
   "metadata": {},
   "outputs": [
    {
     "data": {
      "text/plain": [
       "[[34, 45, 67], ['Seeta', 'Sunita'], True]"
      ]
     },
     "execution_count": 21,
     "metadata": {},
     "output_type": "execute_result"
    }
   ],
   "source": [
    "l2"
   ]
  },
  {
   "cell_type": "code",
   "execution_count": null,
   "id": "3e3837b7-6e02-43f9-9ddc-b642e2f3e244",
   "metadata": {},
   "outputs": [],
   "source": [
    "# functions\n",
    "- sort\n",
    "- "
   ]
  },
  {
   "cell_type": "code",
   "execution_count": 23,
   "id": "94babda7-6544-4cab-b80c-0c2b21f7c7f4",
   "metadata": {},
   "outputs": [],
   "source": [
    "l3 = [76,32,89,56.332,9,54.123]\n",
    "l3.sort()"
   ]
  },
  {
   "cell_type": "code",
   "execution_count": 25,
   "id": "6d86bce8-e756-4548-baf5-f189acae689f",
   "metadata": {},
   "outputs": [
    {
     "data": {
      "text/plain": [
       "[9, 32, 54.123, 56.332, 76, 89]"
      ]
     },
     "execution_count": 25,
     "metadata": {},
     "output_type": "execute_result"
    }
   ],
   "source": [
    "l3"
   ]
  },
  {
   "cell_type": "code",
   "execution_count": 27,
   "id": "6d3b6c3b-69ba-4e93-8aa3-df805090423e",
   "metadata": {},
   "outputs": [],
   "source": [
    "l3.sort(reverse=True)\n"
   ]
  },
  {
   "cell_type": "code",
   "execution_count": 29,
   "id": "2b166c58-44b0-41e5-b49b-4f3bb6493266",
   "metadata": {},
   "outputs": [
    {
     "data": {
      "text/plain": [
       "[89, 76, 56.332, 54.123, 32, 9]"
      ]
     },
     "execution_count": 29,
     "metadata": {},
     "output_type": "execute_result"
    }
   ],
   "source": [
    "l3"
   ]
  },
  {
   "cell_type": "code",
   "execution_count": 35,
   "id": "cdbdf60d-ffe8-41f7-9d2c-be02a779a4b0",
   "metadata": {},
   "outputs": [],
   "source": [
    "l4 = sorted(l3)"
   ]
  },
  {
   "cell_type": "code",
   "execution_count": 39,
   "id": "fd37cc9a-b840-4c15-b4ce-9d513b60eccd",
   "metadata": {},
   "outputs": [
    {
     "data": {
      "text/plain": [
       "[9, 32, 54.123, 56.332, 76, 89]"
      ]
     },
     "execution_count": 39,
     "metadata": {},
     "output_type": "execute_result"
    }
   ],
   "source": [
    "l4"
   ]
  },
  {
   "cell_type": "code",
   "execution_count": 41,
   "id": "bceb6519-d12a-49c2-92b4-4d42ffca8f85",
   "metadata": {},
   "outputs": [
    {
     "data": {
      "text/plain": [
       "['Raman', True, 'neha', 34]"
      ]
     },
     "execution_count": 41,
     "metadata": {},
     "output_type": "execute_result"
    }
   ],
   "source": [
    "l1"
   ]
  },
  {
   "cell_type": "code",
   "execution_count": 49,
   "id": "39185c86-1765-4811-8f7b-137d515c263b",
   "metadata": {},
   "outputs": [],
   "source": [
    "l6 = ['Neha' , 'Data' , 'Smeeta']"
   ]
  },
  {
   "cell_type": "code",
   "execution_count": 51,
   "id": "78b887ee-1720-4ba8-8a31-b5e1ac9a0d7b",
   "metadata": {},
   "outputs": [],
   "source": [
    "l6.sort()"
   ]
  },
  {
   "cell_type": "code",
   "execution_count": 53,
   "id": "8a75ad00-f9d3-4b71-9ec7-e610ec0f27ea",
   "metadata": {},
   "outputs": [
    {
     "data": {
      "text/plain": [
       "['Data', 'Neha', 'Smeeta']"
      ]
     },
     "execution_count": 53,
     "metadata": {},
     "output_type": "execute_result"
    }
   ],
   "source": [
    "l6"
   ]
  },
  {
   "cell_type": "code",
   "execution_count": null,
   "id": "cca37272-1ae8-40c0-a3f9-5f1e9088c9fa",
   "metadata": {},
   "outputs": [],
   "source": [
    "# Reverse\n",
    "[::-1]\n",
    ".reverse()"
   ]
  },
  {
   "cell_type": "code",
   "execution_count": 55,
   "id": "e854f49a-1d06-4dd0-997f-c497b948b1ab",
   "metadata": {},
   "outputs": [
    {
     "data": {
      "text/plain": [
       "['Data', 'Neha', 'Smeeta']"
      ]
     },
     "execution_count": 55,
     "metadata": {},
     "output_type": "execute_result"
    }
   ],
   "source": [
    "l6"
   ]
  },
  {
   "cell_type": "code",
   "execution_count": 57,
   "id": "4fc6790e-f23c-48d4-98e9-e937695c8e09",
   "metadata": {},
   "outputs": [],
   "source": [
    "l6.reverse()"
   ]
  },
  {
   "cell_type": "code",
   "execution_count": 61,
   "id": "abc4c876-9990-4808-b2c5-18fef0b02400",
   "metadata": {},
   "outputs": [
    {
     "data": {
      "text/plain": [
       "['Smeeta', 'Neha', 'Data']"
      ]
     },
     "execution_count": 61,
     "metadata": {},
     "output_type": "execute_result"
    }
   ],
   "source": [
    "l6"
   ]
  },
  {
   "cell_type": "code",
   "execution_count": 73,
   "id": "e0d46064-2ed6-49d4-a110-ceffc85ab55c",
   "metadata": {},
   "outputs": [],
   "source": [
    "a = reversed(l6)"
   ]
  },
  {
   "cell_type": "code",
   "execution_count": 75,
   "id": "4cc83237-8af3-4edc-b573-024c2c18b6c0",
   "metadata": {},
   "outputs": [
    {
     "data": {
      "text/plain": [
       "['Data', 'Neha', 'Smeeta']"
      ]
     },
     "execution_count": 75,
     "metadata": {},
     "output_type": "execute_result"
    }
   ],
   "source": [
    "list(a)"
   ]
  },
  {
   "cell_type": "code",
   "execution_count": 67,
   "id": "93ba850d-9e09-4b81-82e1-50b9ec087937",
   "metadata": {},
   "outputs": [
    {
     "data": {
      "text/plain": [
       "['Smeeta', 'Neha', 'Data']"
      ]
     },
     "execution_count": 67,
     "metadata": {},
     "output_type": "execute_result"
    }
   ],
   "source": [
    "l6"
   ]
  },
  {
   "cell_type": "code",
   "execution_count": null,
   "id": "020ef158-3253-4e59-be8f-3e913f253e63",
   "metadata": {},
   "outputs": [],
   "source": [
    "# List membership\n",
    "- in\n",
    "- not in"
   ]
  },
  {
   "cell_type": "code",
   "execution_count": 77,
   "id": "f7dd5e72-a314-4123-991e-ec154ee20fee",
   "metadata": {},
   "outputs": [
    {
     "data": {
      "text/plain": [
       "False"
      ]
     },
     "execution_count": 77,
     "metadata": {},
     "output_type": "execute_result"
    }
   ],
   "source": [
    "'Umesh' in l6"
   ]
  },
  {
   "cell_type": "code",
   "execution_count": 79,
   "id": "d571f74d-19d7-45cb-ac26-745a8c15d07c",
   "metadata": {},
   "outputs": [
    {
     "data": {
      "text/plain": [
       "True"
      ]
     },
     "execution_count": 79,
     "metadata": {},
     "output_type": "execute_result"
    }
   ],
   "source": [
    "'Umesh' not in l6"
   ]
  },
  {
   "cell_type": "code",
   "execution_count": 81,
   "id": "bb426678-12e1-4e10-a6ad-5856d6a94d89",
   "metadata": {},
   "outputs": [
    {
     "data": {
      "text/plain": [
       "False"
      ]
     },
     "execution_count": 81,
     "metadata": {},
     "output_type": "execute_result"
    }
   ],
   "source": [
    "'Neha ' in l6"
   ]
  },
  {
   "cell_type": "code",
   "execution_count": 83,
   "id": "7550fb08-e1de-438b-bdc8-777da7eb772f",
   "metadata": {},
   "outputs": [
    {
     "data": {
      "text/plain": [
       "True"
      ]
     },
     "execution_count": 83,
     "metadata": {},
     "output_type": "execute_result"
    }
   ],
   "source": [
    "True not in l6\n"
   ]
  },
  {
   "cell_type": "code",
   "execution_count": null,
   "id": "52d78543-08ba-42d8-a151-5f3838c4be0d",
   "metadata": {},
   "outputs": [],
   "source": [
    "# some functions on list\n",
    "sum\n",
    "len\n",
    "min\n",
    "max"
   ]
  },
  {
   "cell_type": "code",
   "execution_count": 85,
   "id": "88cd6319-ccfb-46a8-83ea-64e2a8fa5e11",
   "metadata": {},
   "outputs": [
    {
     "data": {
      "text/plain": [
       "[9, 32, 54.123, 56.332, 76, 89]"
      ]
     },
     "execution_count": 85,
     "metadata": {},
     "output_type": "execute_result"
    }
   ],
   "source": [
    "l4"
   ]
  },
  {
   "cell_type": "code",
   "execution_count": 87,
   "id": "ccb7461d-7b4d-4cc2-b8c0-280f133913a2",
   "metadata": {},
   "outputs": [
    {
     "data": {
      "text/plain": [
       "316.455"
      ]
     },
     "execution_count": 87,
     "metadata": {},
     "output_type": "execute_result"
    }
   ],
   "source": [
    "sum(l4)"
   ]
  },
  {
   "cell_type": "code",
   "execution_count": 89,
   "id": "563e6c95-6036-44c4-b616-f87da6660765",
   "metadata": {},
   "outputs": [
    {
     "data": {
      "text/plain": [
       "89"
      ]
     },
     "execution_count": 89,
     "metadata": {},
     "output_type": "execute_result"
    }
   ],
   "source": [
    "max(l4)"
   ]
  },
  {
   "cell_type": "code",
   "execution_count": 91,
   "id": "fd724246-b86f-437f-84f3-5dd26c62bcbb",
   "metadata": {},
   "outputs": [
    {
     "data": {
      "text/plain": [
       "9"
      ]
     },
     "execution_count": 91,
     "metadata": {},
     "output_type": "execute_result"
    }
   ],
   "source": [
    "min(l4)"
   ]
  },
  {
   "cell_type": "code",
   "execution_count": 93,
   "id": "1fb4bd04-2fcb-448e-945b-d05a885479f8",
   "metadata": {},
   "outputs": [
    {
     "data": {
      "text/plain": [
       "6"
      ]
     },
     "execution_count": 93,
     "metadata": {},
     "output_type": "execute_result"
    }
   ],
   "source": [
    "len(l4)"
   ]
  },
  {
   "cell_type": "markdown",
   "id": "6082bd76-978f-486c-a05a-d5869e4a62da",
   "metadata": {},
   "source": [
    "#### Tuple \n",
    "- read only version of list.\n",
    "- it is immutable."
   ]
  },
  {
   "cell_type": "code",
   "execution_count": null,
   "id": "ff1f918b-38c9-49bd-9bb2-298deb24e923",
   "metadata": {},
   "outputs": [],
   "source": [
    "symbol = ()   -- it is optional"
   ]
  },
  {
   "cell_type": "code",
   "execution_count": 100,
   "id": "0a51ae57-e8ab-4d8e-ba02-15221fa7389f",
   "metadata": {},
   "outputs": [
    {
     "data": {
      "text/plain": [
       "tuple"
      ]
     },
     "execution_count": 100,
     "metadata": {},
     "output_type": "execute_result"
    }
   ],
   "source": [
    "t1 = 1,2,3\n",
    "type(t1)"
   ]
  },
  {
   "cell_type": "code",
   "execution_count": 102,
   "id": "13b23edb-0bec-46d1-9709-cb400dc2f3b2",
   "metadata": {},
   "outputs": [
    {
     "data": {
      "text/plain": [
       "tuple"
      ]
     },
     "execution_count": 102,
     "metadata": {},
     "output_type": "execute_result"
    }
   ],
   "source": [
    "t2 = ()\n",
    "type(t2)"
   ]
  },
  {
   "cell_type": "code",
   "execution_count": 106,
   "id": "90e2c082-8da8-47fd-a9ac-edb08df34d31",
   "metadata": {},
   "outputs": [
    {
     "data": {
      "text/plain": [
       "tuple"
      ]
     },
     "execution_count": 106,
     "metadata": {},
     "output_type": "execute_result"
    }
   ],
   "source": [
    "t3 = 67 , \n",
    "type(t3)"
   ]
  },
  {
   "cell_type": "code",
   "execution_count": 112,
   "id": "9a05ef9c-977c-4364-880e-268f93fc1573",
   "metadata": {},
   "outputs": [
    {
     "data": {
      "text/plain": [
       "('Raman', 67, 89, 34, 'Anisha', True, 'Email')"
      ]
     },
     "execution_count": 112,
     "metadata": {},
     "output_type": "execute_result"
    }
   ],
   "source": [
    "t5 = ('Raman' ,67,89,34 , 'Anisha' , True , 'Email')\n",
    "t5"
   ]
  },
  {
   "cell_type": "code",
   "execution_count": 114,
   "id": "16225336-5050-4829-aa53-c38e6cab28cd",
   "metadata": {},
   "outputs": [
    {
     "data": {
      "text/plain": [
       "tuple"
      ]
     },
     "execution_count": 114,
     "metadata": {},
     "output_type": "execute_result"
    }
   ],
   "source": [
    "type(t5)"
   ]
  },
  {
   "cell_type": "code",
   "execution_count": 117,
   "id": "a9964f0a-d03e-4beb-9646-79b343f00573",
   "metadata": {},
   "outputs": [
    {
     "data": {
      "text/plain": [
       "'Raman'"
      ]
     },
     "execution_count": 117,
     "metadata": {},
     "output_type": "execute_result"
    }
   ],
   "source": [
    "t5[0]"
   ]
  },
  {
   "cell_type": "code",
   "execution_count": 119,
   "id": "236ee253-fd90-48c7-a4e2-1200ec7568f2",
   "metadata": {},
   "outputs": [
    {
     "data": {
      "text/plain": [
       "34"
      ]
     },
     "execution_count": 119,
     "metadata": {},
     "output_type": "execute_result"
    }
   ],
   "source": [
    "t5[-4]"
   ]
  },
  {
   "cell_type": "code",
   "execution_count": 121,
   "id": "c3a8fad0-5f98-4e29-9d85-a88ed5f3b60a",
   "metadata": {},
   "outputs": [
    {
     "data": {
      "text/plain": [
       "('Raman', 67, 89)"
      ]
     },
     "execution_count": 121,
     "metadata": {},
     "output_type": "execute_result"
    }
   ],
   "source": [
    "t5[0:3]"
   ]
  },
  {
   "cell_type": "code",
   "execution_count": 123,
   "id": "168ce9a1-ebf5-4dc0-bb68-ee67ee88f8d5",
   "metadata": {},
   "outputs": [],
   "source": [
    "# delete entire tuple \n",
    "del t5"
   ]
  },
  {
   "cell_type": "code",
   "execution_count": 125,
   "id": "06cf2549-92d2-4cb9-9776-ec19fd741a2a",
   "metadata": {},
   "outputs": [
    {
     "ename": "NameError",
     "evalue": "name 't5' is not defined",
     "output_type": "error",
     "traceback": [
      "\u001b[1;31m---------------------------------------------------------------------------\u001b[0m",
      "\u001b[1;31mNameError\u001b[0m                                 Traceback (most recent call last)",
      "Cell \u001b[1;32mIn[125], line 1\u001b[0m\n\u001b[1;32m----> 1\u001b[0m t5\n",
      "\u001b[1;31mNameError\u001b[0m: name 't5' is not defined"
     ]
    }
   ],
   "source": [
    "t5"
   ]
  },
  {
   "cell_type": "code",
   "execution_count": 127,
   "id": "fa4a0815-39b1-4bca-b99d-6adaeeceb5e3",
   "metadata": {},
   "outputs": [],
   "source": [
    "t4  = ('raman' , 'Meet' ,45 ,67.87 , True)\n"
   ]
  },
  {
   "cell_type": "code",
   "execution_count": 129,
   "id": "d3c5ead8-201d-4532-9530-4424949225af",
   "metadata": {
    "scrolled": true
   },
   "outputs": [
    {
     "ename": "AttributeError",
     "evalue": "'tuple' object has no attribute 'sort'",
     "output_type": "error",
     "traceback": [
      "\u001b[1;31m---------------------------------------------------------------------------\u001b[0m",
      "\u001b[1;31mAttributeError\u001b[0m                            Traceback (most recent call last)",
      "Cell \u001b[1;32mIn[129], line 1\u001b[0m\n\u001b[1;32m----> 1\u001b[0m t4\u001b[38;5;241m.\u001b[39msort()\n",
      "\u001b[1;31mAttributeError\u001b[0m: 'tuple' object has no attribute 'sort'"
     ]
    }
   ],
   "source": [
    "t4.sort()   # tuple is immutable"
   ]
  },
  {
   "cell_type": "code",
   "execution_count": 135,
   "id": "92893efc-14ff-4936-8037-2e5b7cd75374",
   "metadata": {},
   "outputs": [],
   "source": [
    "t5 = (45.7,89,23 ,-123,-45,-67)"
   ]
  },
  {
   "cell_type": "code",
   "execution_count": 145,
   "id": "8482443a-f95a-4503-adf9-b557ff4d1880",
   "metadata": {},
   "outputs": [
    {
     "data": {
      "text/plain": [
       "(-123, -67, -45, 23, 45.7, 89)"
      ]
     },
     "execution_count": 145,
     "metadata": {},
     "output_type": "execute_result"
    }
   ],
   "source": [
    "tuple(sorted(t5))"
   ]
  },
  {
   "cell_type": "code",
   "execution_count": 143,
   "id": "2f79760c-1350-4ba6-93f5-e82d27487293",
   "metadata": {},
   "outputs": [
    {
     "data": {
      "text/plain": [
       "['A', 'R', 'T', 'U', 'a', 'a', 't']"
      ]
     },
     "execution_count": 143,
     "metadata": {},
     "output_type": "execute_result"
    }
   ],
   "source": [
    "s1 = 'ARTUata'\n",
    "sorted(s1)"
   ]
  },
  {
   "cell_type": "code",
   "execution_count": 147,
   "id": "ec981679-ccb7-46c2-9ea5-f49fb261b129",
   "metadata": {
    "scrolled": true
   },
   "outputs": [
    {
     "ename": "AttributeError",
     "evalue": "'tuple' object has no attribute 'reverse'",
     "output_type": "error",
     "traceback": [
      "\u001b[1;31m---------------------------------------------------------------------------\u001b[0m",
      "\u001b[1;31mAttributeError\u001b[0m                            Traceback (most recent call last)",
      "Cell \u001b[1;32mIn[147], line 2\u001b[0m\n\u001b[0;32m      1\u001b[0m \u001b[38;5;66;03m# reverse\u001b[39;00m\n\u001b[1;32m----> 2\u001b[0m t5\u001b[38;5;241m.\u001b[39mreverse()\n",
      "\u001b[1;31mAttributeError\u001b[0m: 'tuple' object has no attribute 'reverse'"
     ]
    }
   ],
   "source": [
    "# reverse\n",
    "t5.reverse()   # immutable "
   ]
  },
  {
   "cell_type": "code",
   "execution_count": 149,
   "id": "8c5e9e34-28a8-46ab-82a2-9d7c9d6e4e38",
   "metadata": {},
   "outputs": [
    {
     "data": {
      "text/plain": [
       "(45.7, 89, 23, -123, -45, -67)"
      ]
     },
     "execution_count": 149,
     "metadata": {},
     "output_type": "execute_result"
    }
   ],
   "source": [
    "t5"
   ]
  },
  {
   "cell_type": "code",
   "execution_count": 153,
   "id": "d1592ea2-cc49-4da5-897f-c4d4825894dc",
   "metadata": {},
   "outputs": [
    {
     "data": {
      "text/plain": [
       "(-67, -45, -123, 23, 89, 45.7)"
      ]
     },
     "execution_count": 153,
     "metadata": {},
     "output_type": "execute_result"
    }
   ],
   "source": [
    "tuple(reversed(t5))"
   ]
  },
  {
   "cell_type": "code",
   "execution_count": 155,
   "id": "2bf2a7b4-5be1-4f32-84bd-01bc8fc53af8",
   "metadata": {},
   "outputs": [
    {
     "ename": "TypeError",
     "evalue": "'tuple' object doesn't support item deletion",
     "output_type": "error",
     "traceback": [
      "\u001b[1;31m---------------------------------------------------------------------------\u001b[0m",
      "\u001b[1;31mTypeError\u001b[0m                                 Traceback (most recent call last)",
      "Cell \u001b[1;32mIn[155], line 1\u001b[0m\n\u001b[1;32m----> 1\u001b[0m \u001b[38;5;28;01mdel\u001b[39;00m t5[\u001b[38;5;241m0\u001b[39m]\n",
      "\u001b[1;31mTypeError\u001b[0m: 'tuple' object doesn't support item deletion"
     ]
    }
   ],
   "source": [
    "del t5[0]"
   ]
  },
  {
   "cell_type": "code",
   "execution_count": 157,
   "id": "bde4ed2b-ecb6-42ad-a7d6-e63377451717",
   "metadata": {},
   "outputs": [
    {
     "ename": "TypeError",
     "evalue": "'tuple' object does not support item assignment",
     "output_type": "error",
     "traceback": [
      "\u001b[1;31m---------------------------------------------------------------------------\u001b[0m",
      "\u001b[1;31mTypeError\u001b[0m                                 Traceback (most recent call last)",
      "Cell \u001b[1;32mIn[157], line 1\u001b[0m\n\u001b[1;32m----> 1\u001b[0m t5[\u001b[38;5;241m0\u001b[39m] \u001b[38;5;241m=\u001b[39m \u001b[38;5;241m56\u001b[39m\n",
      "\u001b[1;31mTypeError\u001b[0m: 'tuple' object does not support item assignment"
     ]
    }
   ],
   "source": [
    "t5[0] = 56"
   ]
  },
  {
   "cell_type": "code",
   "execution_count": 159,
   "id": "803a85e1-23ce-4092-b298-0f99b0a55aed",
   "metadata": {},
   "outputs": [
    {
     "data": {
      "text/plain": [
       "(45.7, 89, 23, -123, -45, -67)"
      ]
     },
     "execution_count": 159,
     "metadata": {},
     "output_type": "execute_result"
    }
   ],
   "source": [
    "t5"
   ]
  },
  {
   "cell_type": "code",
   "execution_count": null,
   "id": "ff104ed1-2fdb-4161-ae93-30206255d7e5",
   "metadata": {},
   "outputs": [],
   "source": [
    "# membership operator"
   ]
  },
  {
   "cell_type": "code",
   "execution_count": 161,
   "id": "a91beaf6-653c-45c7-a556-c318183634fd",
   "metadata": {},
   "outputs": [
    {
     "data": {
      "text/plain": [
       "True"
      ]
     },
     "execution_count": 161,
     "metadata": {},
     "output_type": "execute_result"
    }
   ],
   "source": [
    "-123 in t5"
   ]
  },
  {
   "cell_type": "code",
   "execution_count": 163,
   "id": "d821ee09-685e-4e5a-94de-84a4118f97df",
   "metadata": {},
   "outputs": [
    {
     "data": {
      "text/plain": [
       "False"
      ]
     },
     "execution_count": 163,
     "metadata": {},
     "output_type": "execute_result"
    }
   ],
   "source": [
    "'Mamta' in t5"
   ]
  },
  {
   "cell_type": "code",
   "execution_count": 165,
   "id": "8e2fa913-7557-4af4-808a-b214425b541b",
   "metadata": {},
   "outputs": [
    {
     "data": {
      "text/plain": [
       "True"
      ]
     },
     "execution_count": 165,
     "metadata": {},
     "output_type": "execute_result"
    }
   ],
   "source": [
    "'Mamta' not in t5"
   ]
  },
  {
   "cell_type": "markdown",
   "id": "45ca2e86-b575-4d8b-be69-7254c9bc7357",
   "metadata": {},
   "source": [
    "### Set \n",
    "- it is unordered and unindexed collection of elements\n",
    "- it can contain heterogenous data\n",
    "- duplicates are not allowed\n",
    "- {} symbol\n",
    "- Sets are mutable"
   ]
  },
  {
   "cell_type": "code",
   "execution_count": 169,
   "id": "88ac6c7a-7de3-4968-9f55-bad141397a63",
   "metadata": {},
   "outputs": [
    {
     "data": {
      "text/plain": [
       "dict"
      ]
     },
     "execution_count": 169,
     "metadata": {},
     "output_type": "execute_result"
    }
   ],
   "source": [
    "d1 = {}    # cant create empty set with the help of symbol\n",
    "type(s1)"
   ]
  },
  {
   "cell_type": "code",
   "execution_count": 171,
   "id": "5a64c851-bd14-4652-99a2-ff34f01bf472",
   "metadata": {},
   "outputs": [
    {
     "data": {
      "text/plain": [
       "set"
      ]
     },
     "execution_count": 171,
     "metadata": {},
     "output_type": "execute_result"
    }
   ],
   "source": [
    "s1 = set()\n",
    "type(s1)"
   ]
  },
  {
   "cell_type": "code",
   "execution_count": 173,
   "id": "26e8e70c-1f3a-4c77-a5ef-cf67f096290c",
   "metadata": {},
   "outputs": [
    {
     "name": "stdout",
     "output_type": "stream",
     "text": [
      "{56, 34, 12}\n"
     ]
    },
    {
     "data": {
      "text/plain": [
       "set"
      ]
     },
     "execution_count": 173,
     "metadata": {},
     "output_type": "execute_result"
    }
   ],
   "source": [
    "s2 = {12,34,56}   # set containing int\n",
    "print(s2)\n",
    "type(s2)"
   ]
  },
  {
   "cell_type": "code",
   "execution_count": 175,
   "id": "a5c2bb0c-c3bb-4cf0-910f-b3219741809c",
   "metadata": {},
   "outputs": [
    {
     "name": "stdout",
     "output_type": "stream",
     "text": [
      "{56.76, 34.67, 12.0}\n"
     ]
    },
    {
     "data": {
      "text/plain": [
       "set"
      ]
     },
     "execution_count": 175,
     "metadata": {},
     "output_type": "execute_result"
    }
   ],
   "source": [
    "s3 = {12.0,34.67,56.76}   # set containing float\n",
    "print(s3)\n",
    "type(s3)"
   ]
  },
  {
   "cell_type": "code",
   "execution_count": 177,
   "id": "98c6249d-1f97-4453-818e-ccdf79821efa",
   "metadata": {},
   "outputs": [
    {
     "data": {
      "text/plain": [
       "{12, 9.0, 'Sunita', True}"
      ]
     },
     "execution_count": 177,
     "metadata": {},
     "output_type": "execute_result"
    }
   ],
   "source": [
    "s4 = {12,9.0 ,True , 'Sunita'}\n",
    "s4"
   ]
  },
  {
   "cell_type": "code",
   "execution_count": 187,
   "id": "5e6a074c-7b56-42c3-a351-00cd3715d582",
   "metadata": {},
   "outputs": [],
   "source": [
    "s5 = {1,2,1,1,1 ,56,98, 98,98}"
   ]
  },
  {
   "cell_type": "code",
   "execution_count": 189,
   "id": "4ecfae4e-36fa-460a-b121-689388c698d5",
   "metadata": {},
   "outputs": [
    {
     "data": {
      "text/plain": [
       "{1, 2, 56, 98}"
      ]
     },
     "execution_count": 189,
     "metadata": {},
     "output_type": "execute_result"
    }
   ],
   "source": [
    "s5"
   ]
  },
  {
   "cell_type": "code",
   "execution_count": 193,
   "id": "b332bf82-529a-44bb-b719-503be4e38ffe",
   "metadata": {},
   "outputs": [
    {
     "data": {
      "text/plain": [
       "{'S', 'a', 'e', 'g', 'n', 't'}"
      ]
     },
     "execution_count": 193,
     "metadata": {},
     "output_type": "execute_result"
    }
   ],
   "source": [
    "name = 'Sangeeta'\n",
    "b = set(name)\n",
    "b"
   ]
  },
  {
   "cell_type": "code",
   "execution_count": 195,
   "id": "9065bdf4-e6ef-4627-ad8f-d53cfc32fff2",
   "metadata": {},
   "outputs": [
    {
     "data": {
      "text/plain": [
       "6"
      ]
     },
     "execution_count": 195,
     "metadata": {},
     "output_type": "execute_result"
    }
   ],
   "source": [
    "len(b)"
   ]
  },
  {
   "cell_type": "code",
   "execution_count": 197,
   "id": "82908767-6a18-49ee-84c3-5e11a0c7c390",
   "metadata": {},
   "outputs": [
    {
     "data": {
      "text/plain": [
       "{('Sushmita', 'Ravina'), 34, 99}"
      ]
     },
     "execution_count": 197,
     "metadata": {},
     "output_type": "execute_result"
    }
   ],
   "source": [
    "s6 = {34,99,('Sushmita' , 'Ravina')}\n",
    "s6"
   ]
  },
  {
   "cell_type": "code",
   "execution_count": 199,
   "id": "be40d8c3-bf5c-481b-8c47-874a5cb38357",
   "metadata": {},
   "outputs": [
    {
     "ename": "TypeError",
     "evalue": "unhashable type: 'list'",
     "output_type": "error",
     "traceback": [
      "\u001b[1;31m---------------------------------------------------------------------------\u001b[0m",
      "\u001b[1;31mTypeError\u001b[0m                                 Traceback (most recent call last)",
      "Cell \u001b[1;32mIn[199], line 1\u001b[0m\n\u001b[1;32m----> 1\u001b[0m s6 \u001b[38;5;241m=\u001b[39m {\u001b[38;5;241m34\u001b[39m,\u001b[38;5;241m99\u001b[39m,[\u001b[38;5;124m'\u001b[39m\u001b[38;5;124mSushmita\u001b[39m\u001b[38;5;124m'\u001b[39m , \u001b[38;5;124m'\u001b[39m\u001b[38;5;124mRavina\u001b[39m\u001b[38;5;124m'\u001b[39m]}\n\u001b[0;32m      2\u001b[0m s6\n",
      "\u001b[1;31mTypeError\u001b[0m: unhashable type: 'list'"
     ]
    }
   ],
   "source": [
    "s6 = {34,99,['Sushmita' , 'Ravina']}\n",
    "s6"
   ]
  },
  {
   "cell_type": "code",
   "execution_count": 203,
   "id": "b6d7031a-ab8d-4fe9-a746-2f54a7b872d8",
   "metadata": {},
   "outputs": [
    {
     "ename": "TypeError",
     "evalue": "unhashable type: 'set'",
     "output_type": "error",
     "traceback": [
      "\u001b[1;31m---------------------------------------------------------------------------\u001b[0m",
      "\u001b[1;31mTypeError\u001b[0m                                 Traceback (most recent call last)",
      "Cell \u001b[1;32mIn[203], line 1\u001b[0m\n\u001b[1;32m----> 1\u001b[0m s6 \u001b[38;5;241m=\u001b[39m {\u001b[38;5;241m34\u001b[39m,\u001b[38;5;241m99\u001b[39m,{\u001b[38;5;124m'\u001b[39m\u001b[38;5;124mSushmita\u001b[39m\u001b[38;5;124m'\u001b[39m , \u001b[38;5;124m'\u001b[39m\u001b[38;5;124mRavina\u001b[39m\u001b[38;5;124m'\u001b[39m}}\n\u001b[0;32m      2\u001b[0m s6\n",
      "\u001b[1;31mTypeError\u001b[0m: unhashable type: 'set'"
     ]
    }
   ],
   "source": [
    "s6 = {34,99,{'Sushmita' , 'Ravina'}}\n",
    "s6"
   ]
  },
  {
   "cell_type": "code",
   "execution_count": null,
   "id": "600e2275-1b81-4991-98e8-0ee9d849f474",
   "metadata": {},
   "outputs": [],
   "source": [
    "# Adding\n",
    "# Updating\n",
    "# deleting"
   ]
  },
  {
   "cell_type": "markdown",
   "id": "382832ed-29b5-47a8-824e-47562a359521",
   "metadata": {},
   "source": [
    "#### add \n",
    "- add\n",
    "- update"
   ]
  },
  {
   "cell_type": "code",
   "execution_count": 206,
   "id": "f39ce37e-46c1-4d69-abd0-15bef5af1685",
   "metadata": {},
   "outputs": [
    {
     "data": {
      "text/plain": [
       "{12, 9.0, 'Sunita', True}"
      ]
     },
     "execution_count": 206,
     "metadata": {},
     "output_type": "execute_result"
    }
   ],
   "source": [
    "s4"
   ]
  },
  {
   "cell_type": "code",
   "execution_count": 208,
   "id": "1c800abe-1fdd-47a3-b527-e8e8d8e16a40",
   "metadata": {},
   "outputs": [],
   "source": [
    "s4.add(False)    # to add single obsn"
   ]
  },
  {
   "cell_type": "code",
   "execution_count": 210,
   "id": "3782e287-c800-4192-81ec-455a5a928df7",
   "metadata": {},
   "outputs": [
    {
     "data": {
      "text/plain": [
       "{12, 9.0, False, 'Sunita', True}"
      ]
     },
     "execution_count": 210,
     "metadata": {},
     "output_type": "execute_result"
    }
   ],
   "source": [
    "s4"
   ]
  },
  {
   "cell_type": "code",
   "execution_count": 212,
   "id": "9e9d1a2a-3b68-4b7e-ac58-d9330972ebad",
   "metadata": {},
   "outputs": [],
   "source": [
    "s4.update(['Data' ,'Geet' ,67.0 ])"
   ]
  },
  {
   "cell_type": "code",
   "execution_count": 214,
   "id": "18007e4f-6c54-42af-bf22-b75ca24ef6db",
   "metadata": {},
   "outputs": [
    {
     "data": {
      "text/plain": [
       "{12, 67.0, 9.0, 'Data', False, 'Geet', 'Sunita', True}"
      ]
     },
     "execution_count": 214,
     "metadata": {},
     "output_type": "execute_result"
    }
   ],
   "source": [
    "s4"
   ]
  },
  {
   "cell_type": "code",
   "execution_count": 218,
   "id": "f5d2b224-8a1b-4920-8ccb-dd16c6983ee1",
   "metadata": {},
   "outputs": [],
   "source": [
    "s4.update('data' ,'s')"
   ]
  },
  {
   "cell_type": "code",
   "execution_count": 220,
   "id": "72b97d7a-1bf0-4c3e-8826-91347b0e6d29",
   "metadata": {},
   "outputs": [
    {
     "data": {
      "text/plain": [
       "{12, 67.0, 9.0, 'Data', False, 'Geet', 'Sunita', True, 'a', 'd', 's', 't'}"
      ]
     },
     "execution_count": 220,
     "metadata": {},
     "output_type": "execute_result"
    }
   ],
   "source": [
    "s4"
   ]
  },
  {
   "cell_type": "code",
   "execution_count": 228,
   "id": "4867837f-c429-4a8d-887d-a240b3628548",
   "metadata": {},
   "outputs": [],
   "source": [
    "l5 = [12,45,67 ,56,78]   # deleting obsn from list\n"
   ]
  },
  {
   "cell_type": "code",
   "execution_count": 230,
   "id": "865a0bca-1efd-48ee-aac5-6c388f93315b",
   "metadata": {},
   "outputs": [
    {
     "data": {
      "text/plain": [
       "[12, 45, 67, 56]"
      ]
     },
     "execution_count": 230,
     "metadata": {},
     "output_type": "execute_result"
    }
   ],
   "source": [
    "l5.pop()\n",
    "l5"
   ]
  },
  {
   "cell_type": "code",
   "execution_count": 232,
   "id": "cd6e64cc-17c7-4268-8c46-4c3c6339f98b",
   "metadata": {},
   "outputs": [
    {
     "data": {
      "text/plain": [
       "[12, 45, 56]"
      ]
     },
     "execution_count": 232,
     "metadata": {},
     "output_type": "execute_result"
    }
   ],
   "source": [
    "l5.pop(2)\n",
    "l5"
   ]
  },
  {
   "cell_type": "code",
   "execution_count": null,
   "id": "2f911583-a991-4cd9-8acc-189a67ac0f22",
   "metadata": {},
   "outputs": [],
   "source": [
    "#### delete\n",
    "- remove\n",
    "- discard\n",
    "- pop"
   ]
  },
  {
   "cell_type": "code",
   "execution_count": 234,
   "id": "c9b4c732-c266-407d-a057-9d1c8b0c11e1",
   "metadata": {},
   "outputs": [
    {
     "data": {
      "text/plain": [
       "{12, 67.0, 9.0, 'Data', False, 'Geet', 'Sunita', True, 'a', 'd', 's', 't'}"
      ]
     },
     "execution_count": 234,
     "metadata": {},
     "output_type": "execute_result"
    }
   ],
   "source": [
    "s4"
   ]
  },
  {
   "cell_type": "code",
   "execution_count": 236,
   "id": "130202e1-d759-4ebf-936f-5deffe79f7b2",
   "metadata": {},
   "outputs": [],
   "source": [
    "s4.remove(67.0)"
   ]
  },
  {
   "cell_type": "code",
   "execution_count": 238,
   "id": "565e2ad9-104b-4414-9265-7256005fec84",
   "metadata": {},
   "outputs": [
    {
     "data": {
      "text/plain": [
       "{12, 9.0, 'Data', False, 'Geet', 'Sunita', True, 'a', 'd', 's', 't'}"
      ]
     },
     "execution_count": 238,
     "metadata": {},
     "output_type": "execute_result"
    }
   ],
   "source": [
    "s4"
   ]
  },
  {
   "cell_type": "code",
   "execution_count": 240,
   "id": "16d81a4c-54fe-43d5-bce0-8d20c0603c16",
   "metadata": {},
   "outputs": [
    {
     "ename": "KeyError",
     "evalue": "'z'",
     "output_type": "error",
     "traceback": [
      "\u001b[1;31m---------------------------------------------------------------------------\u001b[0m",
      "\u001b[1;31mKeyError\u001b[0m                                  Traceback (most recent call last)",
      "Cell \u001b[1;32mIn[240], line 1\u001b[0m\n\u001b[1;32m----> 1\u001b[0m s4\u001b[38;5;241m.\u001b[39mremove(\u001b[38;5;124m'\u001b[39m\u001b[38;5;124mz\u001b[39m\u001b[38;5;124m'\u001b[39m)\n",
      "\u001b[1;31mKeyError\u001b[0m: 'z'"
     ]
    }
   ],
   "source": [
    "s4.remove('z')     # obsn not present"
   ]
  },
  {
   "cell_type": "code",
   "execution_count": 242,
   "id": "e8e1d1ac-1586-4c36-90ab-c0011f787501",
   "metadata": {},
   "outputs": [],
   "source": [
    "s4.discard('d')"
   ]
  },
  {
   "cell_type": "code",
   "execution_count": 244,
   "id": "a77268d1-00a0-4a98-9ca2-315d93a7a2bd",
   "metadata": {},
   "outputs": [
    {
     "data": {
      "text/plain": [
       "{12, 9.0, 'Data', False, 'Geet', 'Sunita', True, 'a', 's', 't'}"
      ]
     },
     "execution_count": 244,
     "metadata": {},
     "output_type": "execute_result"
    }
   ],
   "source": [
    "s4"
   ]
  },
  {
   "cell_type": "code",
   "execution_count": 246,
   "id": "7f273c97-dbf7-4b31-a656-881f6cfec901",
   "metadata": {},
   "outputs": [
    {
     "data": {
      "text/plain": [
       "{12, 9.0, 'Data', False, 'Geet', 'Sunita', True, 'a', 's', 't'}"
      ]
     },
     "execution_count": 246,
     "metadata": {},
     "output_type": "execute_result"
    }
   ],
   "source": [
    "s4.discard('xz')      # will not display error if obsn not present\n",
    "s4"
   ]
  },
  {
   "cell_type": "code",
   "execution_count": 248,
   "id": "76d8fa42-2089-4d9f-90f2-9e4f30080d2b",
   "metadata": {},
   "outputs": [
    {
     "data": {
      "text/plain": [
       "False"
      ]
     },
     "execution_count": 248,
     "metadata": {},
     "output_type": "execute_result"
    }
   ],
   "source": [
    "s4.pop()   # deleting randomly"
   ]
  },
  {
   "cell_type": "code",
   "execution_count": 250,
   "id": "762a9066-fce6-469d-a6a5-19de809c74f6",
   "metadata": {},
   "outputs": [
    {
     "data": {
      "text/plain": [
       "True"
      ]
     },
     "execution_count": 250,
     "metadata": {},
     "output_type": "execute_result"
    }
   ],
   "source": [
    "s4.pop()"
   ]
  },
  {
   "cell_type": "code",
   "execution_count": 252,
   "id": "1d5f3e29-d562-4aae-b591-321d66bd47f9",
   "metadata": {},
   "outputs": [
    {
     "data": {
      "text/plain": [
       "'Geet'"
      ]
     },
     "execution_count": 252,
     "metadata": {},
     "output_type": "execute_result"
    }
   ],
   "source": [
    "s4.pop()"
   ]
  },
  {
   "cell_type": "code",
   "execution_count": null,
   "id": "5bd796a1-0850-4ae8-99f1-af517a1e752f",
   "metadata": {},
   "outputs": [],
   "source": [
    "s4.pop()"
   ]
  }
 ],
 "metadata": {
  "kernelspec": {
   "display_name": "Python [conda env:base] *",
   "language": "python",
   "name": "conda-base-py"
  },
  "language_info": {
   "codemirror_mode": {
    "name": "ipython",
    "version": 3
   },
   "file_extension": ".py",
   "mimetype": "text/x-python",
   "name": "python",
   "nbconvert_exporter": "python",
   "pygments_lexer": "ipython3",
   "version": "3.12.7"
  }
 },
 "nbformat": 4,
 "nbformat_minor": 5
}
